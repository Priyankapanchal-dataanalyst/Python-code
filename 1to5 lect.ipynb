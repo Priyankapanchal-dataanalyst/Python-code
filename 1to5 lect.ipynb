{
 "cells": [
  {
   "cell_type": "markdown",
   "id": "dc0a0511-5de7-49c6-8cf5-ef7ea2271e29",
   "metadata": {},
   "source": [
    "1 TO 5 LECT"
   ]
  },
  {
   "cell_type": "code",
   "execution_count": 1,
   "id": "095aaa19-b012-4b48-9fb1-f93e4f85be62",
   "metadata": {},
   "outputs": [
    {
     "data": {
      "text/plain": [
       "15"
      ]
     },
     "execution_count": 1,
     "metadata": {},
     "output_type": "execute_result"
    }
   ],
   "source": [
    "10+5"
   ]
  },
  {
   "cell_type": "code",
   "execution_count": 2,
   "id": "da6cc826-3cee-440b-bebe-21257efef54e",
   "metadata": {},
   "outputs": [
    {
     "data": {
      "text/plain": [
       "5"
      ]
     },
     "execution_count": 2,
     "metadata": {},
     "output_type": "execute_result"
    }
   ],
   "source": [
    "10 - 5 "
   ]
  },
  {
   "cell_type": "code",
   "execution_count": 3,
   "id": "1e2ae07a-dc7a-40d7-8979-1d530fc227f8",
   "metadata": {},
   "outputs": [
    {
     "data": {
      "text/plain": [
       "50"
      ]
     },
     "execution_count": 3,
     "metadata": {},
     "output_type": "execute_result"
    }
   ],
   "source": [
    "10*5"
   ]
  },
  {
   "cell_type": "code",
   "execution_count": 4,
   "id": "be5e1d8d-dc50-437b-a287-8079154539f7",
   "metadata": {},
   "outputs": [
    {
     "data": {
      "text/plain": [
       "2.0"
      ]
     },
     "execution_count": 4,
     "metadata": {},
     "output_type": "execute_result"
    }
   ],
   "source": [
    "10/5      # FLOAT VALUE COME I.E 2.0"
   ]
  },
  {
   "cell_type": "code",
   "execution_count": 5,
   "id": "b8fc529f-abcb-49a6-aeb0-81c9e5bfef7c",
   "metadata": {},
   "outputs": [
    {
     "data": {
      "text/plain": [
       "2"
      ]
     },
     "execution_count": 5,
     "metadata": {},
     "output_type": "execute_result"
    }
   ],
   "source": [
    "10//5   # INT VALUE COME I.E 2 "
   ]
  },
  {
   "cell_type": "code",
   "execution_count": 6,
   "id": "59a18599-eebe-4ede-9b67-1f55f524008b",
   "metadata": {},
   "outputs": [
    {
     "data": {
      "text/plain": [
       "14"
      ]
     },
     "execution_count": 6,
     "metadata": {},
     "output_type": "execute_result"
    }
   ],
   "source": [
    "(10+5)-7+6"
   ]
  },
  {
   "cell_type": "code",
   "execution_count": 7,
   "id": "7b9b01f4-e532-48fc-9157-60d043fb0d71",
   "metadata": {},
   "outputs": [
    {
     "data": {
      "text/plain": [
       "50"
      ]
     },
     "execution_count": 7,
     "metadata": {},
     "output_type": "execute_result"
    }
   ],
   "source": [
    "(5+5)*5"
   ]
  },
  {
   "cell_type": "code",
   "execution_count": 9,
   "id": "ec89d586-262e-447d-a33e-1beebd47e73d",
   "metadata": {},
   "outputs": [
    {
     "data": {
      "text/plain": [
       "30"
      ]
     },
     "execution_count": 9,
     "metadata": {},
     "output_type": "execute_result"
    }
   ],
   "source": [
    "5+(5*5)"
   ]
  },
  {
   "cell_type": "code",
   "execution_count": 10,
   "id": "d5664fb7-9e30-4e6c-90d6-cd651176c137",
   "metadata": {},
   "outputs": [
    {
     "data": {
      "text/plain": [
       "33"
      ]
     },
     "execution_count": 10,
     "metadata": {},
     "output_type": "execute_result"
    }
   ],
   "source": [
    "_+3    # HERE _ CONSIDER PREVIOUS CELLS VALUE I.E 30 "
   ]
  },
  {
   "cell_type": "code",
   "execution_count": 13,
   "id": "77ddd826-3f44-48cc-9583-a4a59ae002b5",
   "metadata": {},
   "outputs": [
    {
     "data": {
      "text/plain": [
       "'3.12.7 | packaged by Anaconda, Inc. | (main, Oct  4 2024, 13:17:27) [MSC v.1929 64 bit (AMD64)]'"
      ]
     },
     "execution_count": 13,
     "metadata": {},
     "output_type": "execute_result"
    }
   ],
   "source": [
    "import sys\n",
    "sys.version          # TO CHECK SYSTEM VERSION "
   ]
  },
  {
   "cell_type": "code",
   "execution_count": 14,
   "id": "3ae2b82b-da59-4921-b9c4-a4f5998690e2",
   "metadata": {},
   "outputs": [
    {
     "data": {
      "text/plain": [
       "5"
      ]
     },
     "execution_count": 14,
     "metadata": {},
     "output_type": "execute_result"
    }
   ],
   "source": [
    "10 +5 \n",
    "5+5      # HERE WE SEE IN OUTPUT ONLY LAST LINE OUTPUT WILL SHOW FOR THIS WE HAVE TO USE PRINT FUNCTION     \n",
    "2+3 "
   ]
  },
  {
   "cell_type": "code",
   "execution_count": 15,
   "id": "057553ec-2b11-4430-92d4-5adb590614c7",
   "metadata": {},
   "outputs": [
    {
     "name": "stdout",
     "output_type": "stream",
     "text": [
      "15\n",
      "10\n",
      "5\n"
     ]
    }
   ],
   "source": [
    "print (10+5) # remember print is function so use () bracket always \n",
    "print (5+5)  # here will get all output Beacuse we use print function \n",
    "print(2+3)   # print used for multiple output "
   ]
  },
  {
   "cell_type": "code",
   "execution_count": 17,
   "id": "7a40b725-b3f6-4d99-a2a1-a67eec16d402",
   "metadata": {},
   "outputs": [
    {
     "name": "stdout",
     "output_type": "stream",
     "text": [
      "30\n"
     ]
    }
   ],
   "source": [
    "a = 10 \n",
    "b = 20 \n",
    "c = (a+b)\n",
    "print (c)  "
   ]
  },
  {
   "cell_type": "code",
   "execution_count": 19,
   "id": "81cdcb19-ccfa-49fe-9d8b-804e8ecb465c",
   "metadata": {},
   "outputs": [
    {
     "name": "stdout",
     "output_type": "stream",
     "text": [
      "10\n",
      "10 20\n",
      "python\n",
      "python\n",
      "10 20 python\n"
     ]
    }
   ],
   "source": [
    "print(10)       # here function is passed with argument or parameter - 10,20,python is parameter\n",
    "print ( 10,20)   \n",
    "print(\"python\")\n",
    "print('python')\n",
    "print (10,20,'python')"
   ]
  },
  {
   "cell_type": "code",
   "execution_count": 23,
   "id": "63d318f1-6dd7-4d60-9088-5fd07f9c35b4",
   "metadata": {},
   "outputs": [
    {
     "name": "stdout",
     "output_type": "stream",
     "text": [
      "\n",
      "10 20\n",
      "pyhton\n",
      "*\n"
     ]
    }
   ],
   "source": [
    "print ()                 # 1st function we dont put value its null so 1st row is empty or null\n",
    "print (10,20)\n",
    "print('pyhton')\n",
    "print('*')  # for special character we have to use inserted comma or treat it as string "
   ]
  },
  {
   "cell_type": "code",
   "execution_count": 25,
   "id": "b654ef75-5fc4-4228-b3fc-8e694d651976",
   "metadata": {},
   "outputs": [
    {
     "data": {
      "text/plain": [
       "15"
      ]
     },
     "execution_count": 25,
     "metadata": {},
     "output_type": "execute_result"
    }
   ],
   "source": [
    "10+5 "
   ]
  },
  {
   "cell_type": "code",
   "execution_count": 26,
   "id": "54f04cb3-c523-4a00-8fb7-2e80207c6bd9",
   "metadata": {},
   "outputs": [
    {
     "name": "stdout",
     "output_type": "stream",
     "text": [
      "15\n"
     ]
    }
   ],
   "source": [
    "print (_)  #  _ means previous value it takes "
   ]
  },
  {
   "cell_type": "code",
   "execution_count": 27,
   "id": "0135b065-a35d-424f-bc91-7db3bb4a0e59",
   "metadata": {},
   "outputs": [
    {
     "name": "stdout",
     "output_type": "stream",
     "text": [
      "30\n"
     ]
    }
   ],
   "source": [
    "num1= 10\n",
    "num2 = 20\n",
    "add = num1 + num2\n",
    "print(add)"
   ]
  },
  {
   "cell_type": "code",
   "execution_count": 28,
   "id": "5e77936f-3667-4852-8262-a6a210cd1dd8",
   "metadata": {},
   "outputs": [
    {
     "name": "stdout",
     "output_type": "stream",
     "text": [
      "the addition of  10 and 20 is= 30\n"
     ]
    }
   ],
   "source": [
    "num1= 10\n",
    "num2 = 20\n",
    "add = num1 + num2\n",
    "print('the addition of ',num1,'and',num2, 'is=',add)"
   ]
  },
  {
   "cell_type": "code",
   "execution_count": null,
   "id": "f91c6fd8-d746-4906-9471-362bf85bb22d",
   "metadata": {},
   "outputs": [],
   "source": []
  }
 ],
 "metadata": {
  "kernelspec": {
   "display_name": "Python 3 (ipykernel)",
   "language": "python",
   "name": "python3"
  },
  "language_info": {
   "codemirror_mode": {
    "name": "ipython",
    "version": 3
   },
   "file_extension": ".py",
   "mimetype": "text/x-python",
   "name": "python",
   "nbconvert_exporter": "python",
   "pygments_lexer": "ipython3",
   "version": "3.12.7"
  }
 },
 "nbformat": 4,
 "nbformat_minor": 5
}
